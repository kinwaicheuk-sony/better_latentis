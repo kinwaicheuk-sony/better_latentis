{
 "cells": [
  {
   "cell_type": "markdown",
   "metadata": {},
   "source": [
    "# Define spaces"
   ]
  },
  {
   "cell_type": "code",
   "execution_count": 10,
   "metadata": {},
   "outputs": [],
   "source": [
    "import torch\n",
    "from latentis.space import LatentSpace\n",
    "\n",
    "N_SAMPLES = 100\n",
    "SPACE1_DIM = 50\n",
    "SPACE2_DIM = 550\n",
    "\n",
    "space1 = LatentSpace(vector_source=torch.randn(N_SAMPLES, SPACE1_DIM))\n",
    "space2 = LatentSpace(vector_source=torch.randn(N_SAMPLES, SPACE2_DIM))"
   ]
  },
  {
   "cell_type": "markdown",
   "metadata": {},
   "source": [
    "# Define Translator"
   ]
  },
  {
   "cell_type": "code",
   "execution_count": 11,
   "metadata": {},
   "outputs": [],
   "source": [
    "from latentis import transform\n",
    "from latentis.transform.dim_matcher import ZeroPadding\n",
    "from latentis.transform._abstract import Estimator\n",
    "from latentis.transform.translate import Translator, MatrixAligner\n",
    "from latentis.transform.translate.functional import sgd_affine_align_state, svd_align_state\n",
    "from latentis.transform.base import StandardScaling\n",
    "\n",
    "translator = Translator(\n",
    "    aligner=MatrixAligner(name=\"svd_aligner\", align_fn_state=svd_align_state),\n",
    "    x_transform=transform.StandardScaling(),\n",
    "    y_transform=transform.StandardScaling(),\n",
    "    dim_matcher=ZeroPadding()\n",
    ")"
   ]
  },
  {
   "cell_type": "markdown",
   "metadata": {},
   "source": [
    "# Fit Translator"
   ]
  },
  {
   "cell_type": "code",
   "execution_count": 23,
   "metadata": {},
   "outputs": [
    {
     "data": {
      "text/plain": [
       "Translator(\n",
       "  (x_transform): name=centering, reverse_fn=standard_scaling_inverse)\n",
       "  (y_transform): name=centering, reverse_fn=standard_scaling_inverse)\n",
       "  (aligner): MatrixAligner()\n",
       "  (dim_matcher): ZeroPadding()\n",
       ")"
      ]
     },
     "execution_count": 23,
     "metadata": {},
     "output_type": "execute_result"
    }
   ],
   "source": [
    "translator.fit(x=space1.vectors, y=space2.vectors)"
   ]
  },
  {
   "cell_type": "markdown",
   "metadata": {},
   "source": [
    "# Latent Translation"
   ]
  },
  {
   "cell_type": "code",
   "execution_count": 33,
   "metadata": {},
   "outputs": [],
   "source": [
    "x_transformed, y_transformed = translator.transform(x=space1.vectors, y=space2.vectors) "
   ]
  },
  {
   "cell_type": "code",
   "execution_count": 34,
   "metadata": {},
   "outputs": [
    {
     "data": {
      "text/plain": [
       "(torch.Size([100, 550]), torch.Size([100, 550]))"
      ]
     },
     "execution_count": 34,
     "metadata": {},
     "output_type": "execute_result"
    }
   ],
   "source": [
    "x_transformed.shape, y_transformed.shape"
   ]
  },
  {
   "cell_type": "code",
   "execution_count": null,
   "metadata": {},
   "outputs": [],
   "source": []
  }
 ],
 "metadata": {
  "kernelspec": {
   "display_name": "latentis",
   "language": "python",
   "name": "python3"
  },
  "language_info": {
   "codemirror_mode": {
    "name": "ipython",
    "version": 3
   },
   "file_extension": ".py",
   "mimetype": "text/x-python",
   "name": "python",
   "nbconvert_exporter": "python",
   "pygments_lexer": "ipython3",
   "version": "3.9.19"
  }
 },
 "nbformat": 4,
 "nbformat_minor": 2
}
